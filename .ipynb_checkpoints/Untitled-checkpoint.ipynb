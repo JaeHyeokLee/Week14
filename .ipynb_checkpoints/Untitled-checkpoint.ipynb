{
 "cells": [
  {
   "cell_type": "code",
   "execution_count": 5,
   "metadata": {},
   "outputs": [],
   "source": [
    "# -*- coding: utf-8 -*-\n",
    "import numpy as np\n",
    "import matplotlib.pyplot as plt\n",
    "import pandas as pd\n",
    "import random"
   ]
  },
  {
   "cell_type": "code",
   "execution_count": 6,
   "metadata": {},
   "outputs": [],
   "source": [
    "#데이터 파일 불러오기\n",
    "temp = []\n",
    "f = open(\"donut.txt\", 'r')\n",
    "lines = f.readlines()\n",
    "for line in lines:\n",
    "    temp.append(line)\n",
    "f.close()\n",
    "\n",
    "donut = []\n",
    "for i in temp:\n",
    "    donut.append(i.split())\n",
    "    \n",
    "donut = np.array(donut).astype(np.float)"
   ]
  },
  {
   "cell_type": "code",
   "execution_count": 59,
   "metadata": {},
   "outputs": [],
   "source": [
    "#2차원 Gaussian Distribution의 PDF를 구하는 함수\n",
    "def get_pdf(input_vector, mean_vector, cov):\n",
    "    inv = np.linalg.inv(cov)\n",
    "    dif = (input_vector - mean_vector)\n",
    "    temp = np.matmul(dif.T, inv)\n",
    "    temp = np.matmul(temp, dif)\n",
    "    return np.exp(-0.5 * temp) /((2*np.pi) * np.power(np.linalg.det(cov), 0.5))\n",
    "\n",
    "#공분산행렬, 평균이 주어졌을때, 어떤 군집에 속하게 될 지 분류해주는 함수\n",
    "def cluster(input_vector, mean_vector_list, cov_list, prob_list):\n",
    "    \n",
    "    output_list = []\n",
    "    \n",
    "    for i in range(len(mean_vector_list)):\n",
    "        output_list.append(prob_list[i] * get_pdf(input_vector, mean_vector_list[i], cov_list[i]))\n",
    "        \n",
    "    return np.argmax(output_list)\n",
    "\n",
    "#분포들의 초기 평균 & 분산 초기화\n",
    "x_mean = np.mean(donut[:,0])\n",
    "y_mean = np.mean(donut[:,1])\n",
    "sd = [np.std(donut[:,0]), np.std(donut[:,1])]\n",
    "\n",
    "u1 = [x_mean + random.uniform(0, 1), y_mean + random.uniform(0, 1)]\n",
    "u2 = [x_mean + random.uniform(0, 1), y_mean + random.uniform(0, 1)]\n",
    "u3 = [x_mean + random.uniform(0, 1), y_mean + random.uniform(0, 1)]\n",
    "u4 = [x_mean + random.uniform(0, 1), y_mean + random.uniform(0, 1)]\n",
    "cov = np.diag(sd)\n",
    "\n",
    "mean_list = [u1, u2, u3, u4]\n",
    "cov_list = [cov, cov, cov, cov]\n",
    "def EM(input_list, mean_vector_list, cov_list):\n",
    "    mean_list = mean_vector_list\n",
    "    cov_list1 = cov_list\n",
    "    #각 분포의 가중치 초기화\n",
    "    prob_list = [0.25, 0.25, 0.25, 0.25]\n",
    "    aa = 0\n",
    "    while aa < 100:\n",
    "        #print(aa)\n",
    "        aa += 1\n",
    "        cluster_list = []\n",
    "        input_subset = []\n",
    "        clustered_index = []\n",
    "        for i in range(len(input_list)):\n",
    "            clustered_index.append(cluster(input_list[i], mean_list, cov_list1, prob_list))\n",
    "        #print(clustered_index)\n",
    "        prob_list = []\n",
    "        #Clustering된 항목 수를 전체 수로 나누어 가중치 업데이트\n",
    "        for i in range(len(mean_list)):\n",
    "            prob_list.append((np.array(clustered_index) == i).sum())\n",
    "        prob_list = np.array(prob_list) / len(input_list)\n",
    "#         print(prob_list[0])\n",
    "#         print(prob_list[1])\n",
    "        #항목 분류\n",
    "        for i in range(len(mean_list)):\n",
    "            input_subset.append(input_list[np.where(np.array(clustered_index) == i)])        \n",
    "        cov_list1 = []\n",
    "        mean_list = []\n",
    "        for i in input_subset:\n",
    "            temp = []\n",
    "            temp.append(np.mean(np.array(i)[:,0]))\n",
    "            temp.append(np.mean(np.array(i)[:,1]))\n",
    "            mean_list.append(temp)\n",
    "            cov_list1.append(np.diag([np.std(np.array(i)[:,0]), np.std(np.array(i)[:,1])]))\n",
    "    return mean_list"
   ]
  },
  {
   "cell_type": "code",
   "execution_count": 60,
   "metadata": {
    "scrolled": true
   },
   "outputs": [
    {
     "name": "stdout",
     "output_type": "stream",
     "text": [
      "0\n",
      "1\n",
      "2\n",
      "3\n",
      "4\n",
      "5\n",
      "6\n",
      "7\n",
      "8\n",
      "9\n",
      "10\n",
      "11\n",
      "12\n",
      "13\n",
      "14\n",
      "15\n",
      "16\n",
      "17\n",
      "18\n",
      "19\n",
      "20\n",
      "21\n",
      "22\n",
      "23\n",
      "24\n",
      "25\n",
      "26\n",
      "27\n",
      "28\n",
      "29\n",
      "30\n",
      "31\n",
      "32\n",
      "33\n",
      "34\n",
      "35\n",
      "36\n",
      "37\n",
      "38\n",
      "39\n",
      "40\n",
      "41\n",
      "42\n",
      "43\n",
      "44\n",
      "45\n",
      "46\n",
      "47\n",
      "48\n",
      "49\n",
      "50\n",
      "51\n",
      "52\n",
      "53\n",
      "54\n",
      "55\n",
      "56\n",
      "57\n",
      "58\n",
      "59\n",
      "60\n",
      "61\n",
      "62\n",
      "63\n",
      "64\n",
      "65\n",
      "66\n",
      "67\n",
      "68\n",
      "69\n",
      "70\n",
      "71\n",
      "72\n",
      "73\n",
      "74\n",
      "75\n",
      "76\n",
      "77\n",
      "78\n",
      "79\n",
      "80\n",
      "81\n",
      "82\n",
      "83\n",
      "84\n",
      "85\n",
      "86\n",
      "87\n",
      "88\n",
      "89\n",
      "90\n",
      "91\n",
      "92\n",
      "93\n",
      "94\n",
      "95\n",
      "96\n",
      "97\n",
      "98\n",
      "99\n"
     ]
    },
    {
     "data": {
      "text/plain": [
       "[[8.8966829268292678, -2.7632379658536586],\n",
       " [0.95757256578947381, 7.763363596491228],\n",
       " [-1.5119271497005986, -9.7178137724550879],\n",
       " [-8.9356400000000011, 0.25940459999999993]]"
      ]
     },
     "execution_count": 60,
     "metadata": {},
     "output_type": "execute_result"
    }
   ],
   "source": [
    "EM(donut, mean_list, cov_list)"
   ]
  },
  {
   "cell_type": "code",
   "execution_count": 9,
   "metadata": {
    "collapsed": true
   },
   "outputs": [],
   "source": [
    "class gaussian:\n",
    "    \n",
    "    \n",
    "    \n",
    "    def __init__(self):\n",
    "        \n",
    "    def get_pdf(input_vector, mean_vector):\n",
    "        inv = np.linalg.inv(cov)\n",
    "        dif = (input_vector - mean_vector)\n",
    "        temp = np.matmul(dif.T, inv)\n",
    "        temp = np.matmul(temp, dif)\n",
    "        return np.exp(-0.5 * temp) /((2*pi) * np.pow(np.linalg.det(cov), 0.5))"
   ]
  },
  {
   "cell_type": "code",
   "execution_count": 61,
   "metadata": {
    "scrolled": true
   },
   "outputs": [
    {
     "name": "stdout",
     "output_type": "stream",
     "text": [
      "0\n",
      "1\n",
      "2\n",
      "3\n",
      "4\n",
      "5\n",
      "6\n",
      "7\n",
      "8\n",
      "9\n",
      "10\n",
      "11\n",
      "12\n",
      "13\n",
      "14\n",
      "15\n",
      "16\n",
      "17\n",
      "18\n",
      "19\n",
      "20\n",
      "21\n",
      "22\n",
      "23\n",
      "24\n",
      "25\n",
      "26\n",
      "27\n",
      "28\n",
      "29\n",
      "30\n",
      "31\n",
      "32\n",
      "33\n",
      "34\n",
      "35\n",
      "36\n",
      "37\n",
      "38\n",
      "39\n",
      "40\n",
      "41\n",
      "42\n",
      "43\n",
      "44\n",
      "45\n",
      "46\n",
      "47\n",
      "48\n",
      "49\n",
      "50\n",
      "51\n",
      "52\n",
      "53\n",
      "54\n",
      "55\n",
      "56\n",
      "57\n",
      "58\n",
      "59\n",
      "60\n",
      "61\n",
      "62\n",
      "63\n",
      "64\n",
      "65\n",
      "66\n",
      "67\n",
      "68\n",
      "69\n",
      "70\n",
      "71\n",
      "72\n",
      "73\n",
      "74\n",
      "75\n",
      "76\n",
      "77\n",
      "78\n",
      "79\n",
      "80\n",
      "81\n",
      "82\n",
      "83\n",
      "84\n",
      "85\n",
      "86\n",
      "87\n",
      "88\n",
      "89\n",
      "90\n",
      "91\n",
      "92\n",
      "93\n",
      "94\n",
      "95\n",
      "96\n",
      "97\n",
      "98\n",
      "99\n"
     ]
    }
   ],
   "source": [
    "dd = EM(donut, mean_list, cov_list)"
   ]
  },
  {
   "cell_type": "code",
   "execution_count": 65,
   "metadata": {
    "scrolled": true
   },
   "outputs": [
    {
     "data": {
      "image/png": "[encoded data removed]",
      "text/plain": [
       "<matplotlib.figure.Figure at 0x7f76c90a7cc0>"
      ]
     },
     "metadata": {},
     "output_type": "display_data"
    }
   ],
   "source": [
    "plt.scatter(donut[:,0], donut[:,1], s = 30)\n",
    "for i in range(len(dd)):\n",
    "    plt.scatter(dd[i][0], dd[i][1], c = 'red')\n",
    "plt.show()"
   ]
  },
  {
   "cell_type": "code",
   "execution_count": 64,
   "metadata": {},
   "outputs": [
    {
     "data": {
      "text/plain": [
       "[8.8966829268292678, -2.7632379658536586]"
      ]
     },
     "execution_count": 64,
     "metadata": {},
     "output_type": "execute_result"
    }
   ],
   "source": [
    "dd[0]"
   ]
  },
  {
   "cell_type": "code",
   "execution_count": null,
   "metadata": {
    "collapsed": true
   },
   "outputs": [],
   "source": []
  },
  {
   "cell_type": "code",
   "execution_count": 22,
   "metadata": {},
   "outputs": [
    {
     "data": {
      "text/plain": [
       "2"
      ]
     },
     "execution_count": 22,
     "metadata": {},
     "output_type": "execute_result"
    }
   ],
   "source": [
    "a = np.array([1,1,2,2,3,3,4,4,5,5])\n",
    "(a == 3).sum()"
   ]
  },
  {
   "cell_type": "code",
   "execution_count": null,
   "metadata": {
    "collapsed": true
   },
   "outputs": [],
   "source": []
  },
  {
   "cell_type": "code",
   "execution_count": null,
   "metadata": {
    "collapsed": true
   },
   "outputs": [],
   "source": []
  },
  {
   "cell_type": "code",
   "execution_count": null,
   "metadata": {
    "collapsed": true
   },
   "outputs": [],
   "source": []
  },
  {
   "cell_type": "code",
   "execution_count": null,
   "metadata": {
    "collapsed": true
   },
   "outputs": [],
   "source": []
  },
  {
   "cell_type": "code",
   "execution_count": null,
   "metadata": {
    "collapsed": true
   },
   "outputs": [],
   "source": []
  },
  {
   "cell_type": "code",
   "execution_count": null,
   "metadata": {
    "collapsed": true
   },
   "outputs": [],
   "source": []
  },
  {
   "cell_type": "code",
   "execution_count": null,
   "metadata": {
    "collapsed": true
   },
   "outputs": [],
   "source": []
  },
  {
   "cell_type": "code",
   "execution_count": null,
   "metadata": {
    "collapsed": true
   },
   "outputs": [],
   "source": []
  },
  {
   "cell_type": "code",
   "execution_count": null,
   "metadata": {
    "collapsed": true
   },
   "outputs": [],
   "source": []
  },
  {
   "cell_type": "code",
   "execution_count": null,
   "metadata": {
    "collapsed": true
   },
   "outputs": [],
   "source": []
  },
  {
   "cell_type": "code",
   "execution_count": null,
   "metadata": {
    "collapsed": true
   },
   "outputs": [],
   "source": []
  },
  {
   "cell_type": "code",
   "execution_count": null,
   "metadata": {
    "collapsed": true
   },
   "outputs": [],
   "source": []
  },
  {
   "cell_type": "code",
   "execution_count": null,
   "metadata": {
    "collapsed": true
   },
   "outputs": [],
   "source": []
  }
 ],
 "metadata": {
  "kernelspec": {
   "display_name": "Python 3",
   "language": "python",
   "name": "python3"
  },
  "language_info": {
   "codemirror_mode": {
    "name": "ipython",
    "version": 3
   },
   "file_extension": ".py",
   "mimetype": "text/x-python",
   "name": "python",
   "nbconvert_exporter": "python",
   "pygments_lexer": "ipython3",
   "version": "3.6.3"
  }
 },
 "nbformat": 4,
 "nbformat_minor": 2
}
